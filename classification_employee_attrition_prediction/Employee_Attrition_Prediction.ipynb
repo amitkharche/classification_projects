{
 "cells": [
  {
   "cell_type": "markdown",
   "id": "b39daf72",
   "metadata": {},
   "source": [
    "# 👨‍💼 Employee Attrition Prediction\n",
    "\n",
    "This notebook predicts whether an employee is likely to leave (Attrition = Yes) based on employee data. The project uses a Random Forest Classifier to make predictions based on features like job satisfaction, income, and department."
   ]
  },
  {
   "cell_type": "code",
   "execution_count": null,
   "id": "38bc9c2c",
   "metadata": {},
   "outputs": [],
   "source": [
    "# 📦 Imports\n",
    "import pandas as pd\n",
    "import numpy as np\n",
    "import matplotlib.pyplot as plt\n",
    "import seaborn as sns\n",
    "from sklearn.model_selection import train_test_split\n",
    "from sklearn.preprocessing import StandardScaler, OneHotEncoder\n",
    "from sklearn.pipeline import Pipeline\n",
    "from sklearn.compose import ColumnTransformer\n",
    "from sklearn.ensemble import RandomForestClassifier\n",
    "from sklearn.metrics import classification_report, accuracy_score\n",
    "import joblib\n",
    "import warnings\n",
    "warnings.filterwarnings(\"ignore\")"
   ]
  },
  {
   "cell_type": "markdown",
   "id": "8381b5b2",
   "metadata": {},
   "source": [
    "## 📂 Load Dataset"
   ]
  },
  {
   "cell_type": "code",
   "execution_count": null,
   "id": "26401425",
   "metadata": {},
   "outputs": [],
   "source": [
    "df = pd.read_csv(\"employee_data.csv\")\n",
    "df.head()"
   ]
  },
  {
   "cell_type": "markdown",
   "id": "e45d0a0b",
   "metadata": {},
   "source": [
    "## 🧼 Data Cleaning"
   ]
  },
  {
   "cell_type": "code",
   "execution_count": null,
   "id": "4849a51a",
   "metadata": {},
   "outputs": [],
   "source": [
    "\n",
    "df.dropna(inplace=True)  # Drop rows with missing values\n",
    "df.isnull().sum()  # Check if there are any remaining null values\n"
   ]
  },
  {
   "cell_type": "markdown",
   "id": "a2ff620b",
   "metadata": {},
   "source": [
    "## 🎯 Encode Target Variable"
   ]
  },
  {
   "cell_type": "code",
   "execution_count": null,
   "id": "62dc0ac6",
   "metadata": {},
   "outputs": [],
   "source": [
    "df['Attrition'].value_counts()  # Check class distribution\n",
    "df['Attrition'] = df['Attrition'].map({\"Yes\": 1, \"No\": 0})  # Encode target variable (Attrition = 1, Retained = 0)"
   ]
  },
  {
   "cell_type": "markdown",
   "id": "8e38b1f2",
   "metadata": {},
   "source": [
    "## 🧠 Feature Selection"
   ]
  },
  {
   "cell_type": "code",
   "execution_count": null,
   "id": "41b4dfda",
   "metadata": {},
   "outputs": [],
   "source": [
    "\n",
    "X = df.drop(columns=[\"Attrition\"])\n",
    "y = df[\"Attrition\"]\n",
    "\n",
    "# Numeric features\n",
    "numeric_features = [\"Age\", \"Education\", \"JobSatisfaction\", \"MonthlyIncome\", \"TotalWorkingYears\", \"YearsAtCompany\"]\n",
    "\n",
    "# Categorical features\n",
    "categorical_features = [col for col in X.columns if col not in numeric_features]\n"
   ]
  },
  {
   "cell_type": "markdown",
   "id": "125ec96a",
   "metadata": {},
   "source": [
    "## 🔀 Train/Test Split"
   ]
  },
  {
   "cell_type": "code",
   "execution_count": null,
   "id": "08c8ff71",
   "metadata": {},
   "outputs": [],
   "source": [
    "\n",
    "X_train, X_test, y_train, y_test = train_test_split(X, y, stratify=y, test_size=0.2, random_state=42)\n"
   ]
  },
  {
   "cell_type": "markdown",
   "id": "4ecc9480",
   "metadata": {},
   "source": [
    "## ⚙️ Preprocessing Setup"
   ]
  },
  {
   "cell_type": "code",
   "execution_count": null,
   "id": "9c395848",
   "metadata": {},
   "outputs": [],
   "source": [
    "\n",
    "preprocessor = ColumnTransformer([\n",
    "    (\"num\", StandardScaler(), numeric_features),\n",
    "    (\"cat\", OneHotEncoder(handle_unknown=\"ignore\"), categorical_features)\n",
    "])\n"
   ]
  },
  {
   "cell_type": "markdown",
   "id": "7835dfef",
   "metadata": {},
   "source": [
    "## 🤖 Model Training"
   ]
  },
  {
   "cell_type": "code",
   "execution_count": null,
   "id": "304d2f17",
   "metadata": {},
   "outputs": [],
   "source": [
    "\n",
    "pipeline = Pipeline([\n",
    "    (\"preprocessor\", preprocessor),\n",
    "    (\"classifier\", RandomForestClassifier(n_estimators=100, random_state=42))\n",
    "])\n",
    "pipeline.fit(X_train, y_train)\n"
   ]
  },
  {
   "cell_type": "markdown",
   "id": "f40112c6",
   "metadata": {},
   "source": [
    "## 📈 Model Evaluation"
   ]
  },
  {
   "cell_type": "code",
   "execution_count": null,
   "id": "be505bf2",
   "metadata": {},
   "outputs": [],
   "source": [
    "\n",
    "y_pred = pipeline.predict(X_test)\n",
    "\n",
    "print(\"Accuracy:\", accuracy_score(y_test, y_pred))\n",
    "print(\"\\nClassification Report:\\n\", classification_report(y_test, y_pred))\n",
    "\n",
    "conf_matrix = confusion_matrix(y_test, y_pred)\n",
    "sns.heatmap(conf_matrix, annot=True, fmt='d', cmap='Blues')\n",
    "plt.title(\"Confusion Matrix\")\n",
    "plt.xlabel(\"Predicted\")\n",
    "plt.ylabel(\"Actual\")\n",
    "plt.show()\n"
   ]
  },
  {
   "cell_type": "markdown",
   "id": "7483ae38",
   "metadata": {},
   "source": [
    "## 💾 Save Model"
   ]
  },
  {
   "cell_type": "code",
   "execution_count": null,
   "id": "66acf709",
   "metadata": {},
   "outputs": [],
   "source": [
    "\n",
    "# Save the trained model and feature list for future use\n",
    "joblib.dump(pipeline, \"attrition_model.pkl\")\n",
    "joblib.dump(X.columns.tolist(), \"attrition_features.pkl\")\n"
   ]
  }
 ],
 "metadata": {},
 "nbformat": 4,
 "nbformat_minor": 5
}
