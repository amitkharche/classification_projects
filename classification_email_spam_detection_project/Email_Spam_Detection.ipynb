{
 "cells": [
  {
   "cell_type": "markdown",
   "id": "88e4cd12",
   "metadata": {},
   "source": [
    "# 📧 Email Spam Detection\n",
    "\n",
    "This notebook uses machine learning to classify emails as spam or not based on email content. We will use a Random Forest Classifier and perform data cleaning, feature selection, preprocessing, model training, and evaluation."
   ]
  },
  {
   "cell_type": "code",
   "execution_count": null,
   "id": "b18aae03",
   "metadata": {},
   "outputs": [],
   "source": [
    "# 📦 Imports\n",
    "import pandas as pd\n",
    "import numpy as np\n",
    "import matplotlib.pyplot as plt\n",
    "import seaborn as sns\n",
    "from sklearn.model_selection import train_test_split\n",
    "from sklearn.feature_extraction.text import TfidfVectorizer\n",
    "from sklearn.ensemble import RandomForestClassifier\n",
    "from sklearn.pipeline import Pipeline\n",
    "from sklearn.metrics import classification_report, accuracy_score\n",
    "import joblib\n",
    "import warnings\n",
    "warnings.filterwarnings(\"ignore\")"
   ]
  },
  {
   "cell_type": "markdown",
   "id": "5010c256",
   "metadata": {},
   "source": [
    "## 📂 Load Dataset"
   ]
  },
  {
   "cell_type": "code",
   "execution_count": null,
   "id": "e5141957",
   "metadata": {},
   "outputs": [],
   "source": [
    "df = pd.read_csv(\"email_spam_data.csv\")\n",
    "df.head()"
   ]
  },
  {
   "cell_type": "markdown",
   "id": "7ead838e",
   "metadata": {},
   "source": [
    "## 🧼 Data Cleaning"
   ]
  },
  {
   "cell_type": "code",
   "execution_count": null,
   "id": "b151d079",
   "metadata": {},
   "outputs": [],
   "source": [
    "df.dropna(inplace=True)  # Drop rows with missing values\n",
    "df.isnull().sum()  # Check for any remaining null values"
   ]
  },
  {
   "cell_type": "markdown",
   "id": "318e3d04",
   "metadata": {},
   "source": [
    "## 🎯 Feature Selection and Target Encoding"
   ]
  },
  {
   "cell_type": "code",
   "execution_count": null,
   "id": "4176b5e3",
   "metadata": {},
   "outputs": [],
   "source": [
    "# Target encoding (Spam = 1, Not Spam = 0)\n",
    "df['IsSpam'] = df['IsSpam'].map({1: 'Spam', 0: 'Not Spam'})\n",
    "\n",
    "X = df['EmailContent']  # Feature: Email Content\n",
    "y = df['IsSpam']  # Target: Spam or Not Spam"
   ]
  },
  {
   "cell_type": "markdown",
   "id": "c7d2de10",
   "metadata": {},
   "source": [
    "## ⚙️ Preprocessing Setup"
   ]
  },
  {
   "cell_type": "code",
   "execution_count": null,
   "id": "9cb261d8",
   "metadata": {},
   "outputs": [],
   "source": [
    "# Convert the text data into numerical form using TF-IDF\n",
    "tfidf = TfidfVectorizer(stop_words='english', max_features=500)\n",
    "\n",
    "# Train/Test Split\n",
    "X_train, X_test, y_train, y_test = train_test_split(X, y, test_size=0.2, random_state=42)"
   ]
  },
  {
   "cell_type": "markdown",
   "id": "50662e7b",
   "metadata": {},
   "source": [
    "## 🤖 Model Training"
   ]
  },
  {
   "cell_type": "code",
   "execution_count": null,
   "id": "10e53a51",
   "metadata": {},
   "outputs": [],
   "source": [
    "pipeline = Pipeline([\n",
    "    ('vectorizer', tfidf),\n",
    "    ('classifier', RandomForestClassifier(n_estimators=100, random_state=42))\n",
    "])\n",
    "pipeline.fit(X_train, y_train)"
   ]
  },
  {
   "cell_type": "markdown",
   "id": "51f0e0e6",
   "metadata": {},
   "source": [
    "## 📈 Model Evaluation"
   ]
  },
  {
   "cell_type": "code",
   "execution_count": null,
   "id": "9e5400dd",
   "metadata": {},
   "outputs": [],
   "source": [
    "y_pred = pipeline.predict(X_test)\n",
    "\n",
    "print(\"Accuracy:\", accuracy_score(y_test, y_pred))\n",
    "print(\"\\nClassification Report:\\n\", classification_report(y_test, y_pred))\n",
    "\n",
    "conf_matrix = confusion_matrix(y_test, y_pred)\n",
    "sns.heatmap(conf_matrix, annot=True, fmt='d', cmap='Blues')\n",
    "plt.title(\"Confusion Matrix\")\n",
    "plt.xlabel(\"Predicted\")\n",
    "plt.ylabel(\"Actual\")\n",
    "plt.show()"
   ]
  },
  {
   "cell_type": "markdown",
   "id": "dd6954af",
   "metadata": {},
   "source": [
    "## 💾 Save Model"
   ]
  },
  {
   "cell_type": "code",
   "execution_count": null,
   "id": "57fbfb85",
   "metadata": {},
   "outputs": [],
   "source": [
    "# Save the trained model and feature list for future use\n",
    "joblib.dump(pipeline, \"spam_classifier_model.pkl\")\n",
    "joblib.dump(X.columns.tolist(), \"spam_features.pkl\")"
   ]
  }
 ],
 "metadata": {},
 "nbformat": 4,
 "nbformat_minor": 5
}
